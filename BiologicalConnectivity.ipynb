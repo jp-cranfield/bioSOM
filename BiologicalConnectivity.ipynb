{
 "cells": [
  {
   "cell_type": "markdown",
   "metadata": {},
   "source": [
    "# BiologicalConnectivity\n",
    "\n",
    "Implement biological clustering quality measurement\n",
    "\n",
    "Uses previously collected common pathway data from BioCyC for Arabidopsis"
   ]
  },
  {
   "cell_type": "markdown",
   "metadata": {},
   "source": [
    "![image.png](attachment:image.png)"
   ]
  }
 ],
 "metadata": {
  "language_info": {
   "name": "python"
  },
  "orig_nbformat": 4
 },
 "nbformat": 4,
 "nbformat_minor": 2
}
